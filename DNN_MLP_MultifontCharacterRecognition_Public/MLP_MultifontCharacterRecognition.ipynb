{
 "cells": [
  {
   "cell_type": "markdown",
   "metadata": {},
   "source": [
    "NON-SEPARABLE CLASSIFICATION PROJECT – MULTI-FONT CHARACTER RECOGNITION:"
   ]
  },
  {
   "cell_type": "markdown",
   "metadata": {},
   "source": [
    "Megan Petralia\n"
   ]
  },
  {
   "cell_type": "markdown",
   "metadata": {},
   "source": [
    "The following scientific publication was used for reference:\n",
    "\n",
    "Font Recognition by a Neural Network\n",
    "\n",
    "Author Ming-Chih Lee , William J.B., Oldham\n",
    "\n",
    "https://www.sciencedirect.com/science/article/abs/pii/S0020737305801142\n"
   ]
  },
  {
   "cell_type": "markdown",
   "metadata": {},
   "source": [
    "Import packages to use such as pandas for dataframe aggregation and manipulation as well matplotlib and seaborn for plotting. Tensorflow, keras for model building. Sklearn and bayes_opt for normalization and optimization."
   ]
  },
  {
   "cell_type": "code",
   "execution_count": 2,
   "metadata": {},
   "outputs": [],
   "source": [
    "import pandas as pd\n",
    "import matplotlib.pyplot as plt\n",
    "import seaborn as sns\n",
    "import numpy as np\n",
    "import io\n",
    "from bayes_opt import BayesianOptimization\n",
    "import sklearn\n",
    "import seaborn as sns\n",
    "from sklearn.metrics import confusion_matrix\n",
    "\n",
    "## Importing more required libraries\n",
    "import numpy as np\n",
    "from keras.models import Sequential\n",
    "from keras.layers import Dense, Dropout\n",
    "import warnings\n",
    "\n",
    "#makes numby printouts easier to read\n",
    "np.set_printoptions(precision=3, suppress=True)"
   ]
  },
  {
   "cell_type": "code",
   "execution_count": 3,
   "metadata": {},
   "outputs": [
    {
     "name": "stdout",
     "output_type": "stream",
     "text": [
      "2.8.0\n"
     ]
    }
   ],
   "source": [
    "import tensorflow as tf\n",
    "\n",
    "from tensorflow import keras\n",
    "from tensorflow.keras import layers\n",
    "from keras.models import Sequential\n",
    "from keras.layers import Dense\n",
    "\n",
    "print(tf.__version__)"
   ]
  },
  {
   "cell_type": "markdown",
   "metadata": {},
   "source": [
    "Known information about data used:\n",
    "\n",
    "The network will be trained on upper-case English letters in selected fonts. The data that will be used for this project, consisting of 6 fonts (Courier, New York, Chicago, Geneva, Times, and Venice), was collected and quantized by Lee (see reference linked above). A brief summary of the data collection method is presented here:\n",
    "1. The image of the letter is normalized to an 18 x 18 character matrix, where the line thickness is one and the image is represented by 0's (background) and 1's (foreground).\n",
    "2. Fourteen properties similar to those proposed by Fujii and Morita were extracted from each image. Each property is a 3 x 3 matrix, thus, for each image, a 14 x 9 matrix is generated. This is the X matrix for that image. A property recognition matrix, Y, is constructed for each image and is also a 14 x 9 matrix. It is chosen arbitrarily and is as simple as possible. W is a 9 x 9 filter matrix which maps X to Y and can be found from: W = X* Y, where X* the pseudo-inverse of X.\n",
    "3. A 3 x 3 window is moved from upper left to lower right over the character image. The 9 elements in the window are multiplied by the matrix W. If the output matches a row of Y, say row k, the kth place in the count matrix is incremented by the weighting factor of that property.\n",
    "Thus, the count matrix for a character contains the number of exact template matches, weighted by position. The result is 156 (26 x 6) 14-element vectors."
   ]
  },
  {
   "cell_type": "markdown",
   "metadata": {},
   "source": [
    "Alphabet training and testing datasets are imported."
   ]
  },
  {
   "cell_type": "code",
   "execution_count": 4,
   "metadata": {},
   "outputs": [],
   "source": [
    "loc_train = (\"Alphabet_training.txt\")\n",
    "loc_test = (\"Alphabet_testing.txt\")"
   ]
  },
  {
   "cell_type": "markdown",
   "metadata": {},
   "source": [
    "Data is reformatted into input/output train/test arrays"
   ]
  },
  {
   "cell_type": "code",
   "execution_count": 5,
   "metadata": {},
   "outputs": [],
   "source": [
    "f = open(loc_train, \"r\")\n",
    "string = f.read()\n",
    "array = np.fromstring(string, dtype=int, sep='\\n')\n",
    "split_array = np.array_split(array, 78)\n",
    "#split_array[1]\n"
   ]
  },
  {
   "cell_type": "markdown",
   "metadata": {},
   "source": [
    "Inputs have 14 features"
   ]
  },
  {
   "cell_type": "code",
   "execution_count": 6,
   "metadata": {},
   "outputs": [
    {
     "data": {
      "text/plain": [
       "(14,)"
      ]
     },
     "execution_count": 6,
     "metadata": {},
     "output_type": "execute_result"
    }
   ],
   "source": [
    "\n",
    "input_array = [item[0:14] for item in split_array]\n",
    "input_array = np.array(input_array)\n",
    "input_array[0].shape\n"
   ]
  },
  {
   "cell_type": "markdown",
   "metadata": {},
   "source": [
    "Look at first 4 inputs"
   ]
  },
  {
   "cell_type": "code",
   "execution_count": 8,
   "metadata": {},
   "outputs": [
    {
     "data": {
      "text/plain": [
       "array([[ 8,  0,  0,  0,  0,  0,  0,  0,  0,  0,  0,  1,  0,  8],\n",
       "       [ 7,  0,  0,  0,  0,  0,  0,  0,  0,  0,  0,  0,  0, 11],\n",
       "       [12, 10,  1,  1,  0,  0,  0,  4,  6,  0,  0,  0,  0,  2],\n",
       "       [21, 10,  4,  4,  0,  1,  1,  0,  5,  0,  2,  0,  0,  2]])"
      ]
     },
     "execution_count": 8,
     "metadata": {},
     "output_type": "execute_result"
    }
   ],
   "source": [
    "input_array[0:4]"
   ]
  },
  {
   "cell_type": "markdown",
   "metadata": {},
   "source": [
    "Outputs have 26 classes, for all 26 letters"
   ]
  },
  {
   "cell_type": "code",
   "execution_count": 9,
   "metadata": {},
   "outputs": [
    {
     "data": {
      "text/plain": [
       "(26,)"
      ]
     },
     "execution_count": 9,
     "metadata": {},
     "output_type": "execute_result"
    }
   ],
   "source": [
    "output_array = [item[14:] for item in split_array]\n",
    "output_array = np.array(output_array)\n",
    "output_array[0].shape"
   ]
  },
  {
   "cell_type": "markdown",
   "metadata": {},
   "source": [
    "Look at first 4 outputs"
   ]
  },
  {
   "cell_type": "code",
   "execution_count": 10,
   "metadata": {},
   "outputs": [
    {
     "data": {
      "text/plain": [
       "array([[1, 0, 0, 0, 0, 0, 0, 0, 0, 0, 0, 0, 0, 0, 0, 0, 0, 0, 0, 0, 0, 0,\n",
       "        0, 0, 0, 0],\n",
       "       [1, 0, 0, 0, 0, 0, 0, 0, 0, 0, 0, 0, 0, 0, 0, 0, 0, 0, 0, 0, 0, 0,\n",
       "        0, 0, 0, 0],\n",
       "       [1, 0, 0, 0, 0, 0, 0, 0, 0, 0, 0, 0, 0, 0, 0, 0, 0, 0, 0, 0, 0, 0,\n",
       "        0, 0, 0, 0],\n",
       "       [0, 1, 0, 0, 0, 0, 0, 0, 0, 0, 0, 0, 0, 0, 0, 0, 0, 0, 0, 0, 0, 0,\n",
       "        0, 0, 0, 0]])"
      ]
     },
     "execution_count": 10,
     "metadata": {},
     "output_type": "execute_result"
    }
   ],
   "source": [
    "output_array[0:4]"
   ]
  },
  {
   "cell_type": "code",
   "execution_count": 11,
   "metadata": {},
   "outputs": [],
   "source": [
    "f = open(loc_test, \"r\")\n",
    "string = f.read()\n",
    "array = np.fromstring(string, dtype=int, sep='\\n')\n",
    "split_array = np.array_split(array, 78)\n",
    "#split_array[1]"
   ]
  },
  {
   "cell_type": "code",
   "execution_count": 12,
   "metadata": {},
   "outputs": [],
   "source": [
    "input_test_array = [item[0:14] for item in split_array]\n",
    "input_test_array = np.array(input_array)\n",
    "#input_test_array[0].shape"
   ]
  },
  {
   "cell_type": "code",
   "execution_count": 13,
   "metadata": {},
   "outputs": [],
   "source": [
    "output_test_array = [item[14:] for item in split_array]\n",
    "output_test_array = np.array(output_test_array)\n",
    "#output_test_array"
   ]
  },
  {
   "cell_type": "markdown",
   "metadata": {},
   "source": [
    "Normalization/Scaling:\n",
    "Normalization or scaling is not needed here. This procdure is provided with an even dataset of all different 26 letters in each of 3 fonts. With the letter image input/output , essentially already hot coded, the data is ready to be input into a model."
   ]
  },
  {
   "cell_type": "markdown",
   "metadata": {},
   "source": [
    "Next, the Keras Model is defined."
   ]
  },
  {
   "cell_type": "markdown",
   "metadata": {},
   "source": [
    "- The keras model defined includes 2 rectified linear functions, 1 drop out to prevent overfitting, and 1 sigmoid layer, respectively."
   ]
  },
  {
   "cell_type": "markdown",
   "metadata": {},
   "source": [
    "- The specific layer values (shape , drop out rate , etc.) are decided by the bayesian optimizer below."
   ]
  },
  {
   "cell_type": "code",
   "execution_count": 14,
   "metadata": {},
   "outputs": [],
   "source": [
    "# Defining various initialization parameters for MLP model\n",
    "num_features = input_array.shape[1]\n",
    "num_classes = output_array.shape[1] \n",
    "\n",
    "# Let's create a helper function first which builds the model with various parameters.\n",
    "def get_model(input_dim, dense_0_neurons, dense_1_neurons, dropout_rate, num_classes):\n",
    "    # Builds a Sequential MLP model using Keras and returns it\n",
    "    \n",
    "    # Define the keras model\n",
    "    model = Sequential()\n",
    "    model.add(Dense(dense_0_neurons, input_dim=input_dim, activation='relu', name=\"dense_1\"))\n",
    "    model.add(Dense(dense_1_neurons, activation='relu', name=\"dense_2\"))\n",
    "    model.add(Dropout(dropout_rate, name=\"dropout\"))\n",
    "    model.add(Dense(num_classes, activation='sigmoid', name=\"dense_3\"))\n",
    "    return model"
   ]
  },
  {
   "cell_type": "markdown",
   "metadata": {},
   "source": [
    "The model takes 14 input features, and outputs 26 classes"
   ]
  },
  {
   "cell_type": "code",
   "execution_count": 15,
   "metadata": {},
   "outputs": [
    {
     "name": "stdout",
     "output_type": "stream",
     "text": [
      "# Features:  14\n",
      "# Classes:  26\n"
     ]
    }
   ],
   "source": [
    "print('# Features: ' , num_features)\n",
    "print('# Classes: ' , num_classes)"
   ]
  },
  {
   "cell_type": "markdown",
   "metadata": {},
   "source": [
    "Next, the following functions are set up for the Bayesian Optimizer"
   ]
  },
  {
   "cell_type": "markdown",
   "metadata": {},
   "source": [
    "- The model is built for optimization using categorical cross entropy as the loss function, stochastic gradient descent for optimization, and accuracy as the performance metric. Batch size is 26, chosen becuase it's approximately 1/3 of the size of the training dataset."
   ]
  },
  {
   "cell_type": "markdown",
   "metadata": {},
   "source": [
    "- Because of the nature of the dataset, I decided not to take out part of the training dataset for validation. Cross-fold validation makes less sense, because there are only three records of each letter, of a differe font each, it seems more optimal to focus on accuracy compared to the test dataset and utilize on the training records for training."
   ]
  },
  {
   "cell_type": "code",
   "execution_count": 16,
   "metadata": {},
   "outputs": [],
   "source": [
    "#Bayesian Optimizer\n",
    "def fit_with(num_features, num_classes, verbose, dense_0_neurons_x20, dense_1_neurons_x26, dropout_rate):\n",
    "\n",
    "    # Calculate true hyperparameter values for discrete variables.\n",
    "    dense_0_neurons = max(int(dense_0_neurons_x20 * 20), 20)\n",
    "    dense_1_neurons = max(int(dense_1_neurons_x26 * 26), 26)\n",
    "  \n",
    "    # Create the model using a specified hyperparameters.\n",
    "    model = get_model(num_features, dense_0_neurons, dense_1_neurons, dropout_rate, num_classes)\n",
    "\n",
    "    # Compile the keras model for a specified number of epochs.\n",
    "    model.compile(loss='categorical_crossentropy',\n",
    "                  optimizer='adam',\n",
    "                  metrics=['accuracy'])\n",
    "\n",
    "    # Fit keras model\n",
    "    history = model.fit(input_array, output_array, \n",
    "                        epochs=5, \n",
    "                        batch_size=26, #3 batches for 78 length dataset\n",
    "                        validation_split = 0.00, \n",
    "                        verbose=verbose)\n",
    "\n",
    "    # Evaluate the model with the eval dataset.\n",
    "    score = model.evaluate(input_array, output_array,\n",
    "                                  batch_size=26, verbose=0)\n",
    "    print('Test loss:', score[0], '   Test accuracy:', score[1])\n",
    "\n",
    "    # Return the accuracy.\n",
    "    return score[1]\n",
    "\n",
    "from functools import partial\n",
    "\n",
    "verbose = 1\n",
    "fit_with_partial = partial(fit_with, num_features, num_classes, verbose) # Handles fixed parameters during optimization\n"
   ]
  },
  {
   "cell_type": "markdown",
   "metadata": {},
   "source": [
    "Bayesian Optimizer is run, with accuracy and loss output at each iteration."
   ]
  },
  {
   "cell_type": "code",
   "execution_count": 17,
   "metadata": {},
   "outputs": [
    {
     "name": "stdout",
     "output_type": "stream",
     "text": [
      "|   iter    |  target   | dense_... | dense_... | dropou... |\n",
      "-------------------------------------------------------------\n",
      "Epoch 1/5\n",
      "3/3 [==============================] - 0s 3ms/step - loss: 4.2215 - accuracy: 0.0128\n",
      "Epoch 2/5\n",
      "3/3 [==============================] - 0s 3ms/step - loss: 3.8679 - accuracy: 0.0513\n",
      "Epoch 3/5\n",
      "3/3 [==============================] - 0s 2ms/step - loss: 3.5691 - accuracy: 0.0641\n",
      "Epoch 4/5\n",
      "3/3 [==============================] - 0s 2ms/step - loss: 3.3302 - accuracy: 0.0641\n",
      "Epoch 5/5\n",
      "3/3 [==============================] - 0s 2ms/step - loss: 3.1399 - accuracy: 0.1410\n",
      "Test loss: 3.014878273010254    Test accuracy: 0.19230769574642181\n",
      "Epoch 1/5\n",
      "3/3 [==============================] - 0s 2ms/step - loss: 4.1643 - accuracy: 0.0128\n",
      "Epoch 2/5\n",
      "3/3 [==============================] - 0s 4ms/step - loss: 3.8700 - accuracy: 0.0385\n",
      "Epoch 3/5\n",
      "3/3 [==============================] - 0s 3ms/step - loss: 3.6658 - accuracy: 0.0641\n",
      "Epoch 4/5\n",
      "3/3 [==============================] - 0s 3ms/step - loss: 3.4968 - accuracy: 0.0897\n",
      "Epoch 5/5\n",
      "3/3 [==============================] - 0s 3ms/step - loss: 3.3263 - accuracy: 0.1154\n",
      "Test loss: 3.2263238430023193    Test accuracy: 0.10256410390138626\n",
      "Epoch 1/5\n",
      "3/3 [==============================] - 1s 2ms/step - loss: 5.3653 - accuracy: 0.0385\n",
      "Epoch 2/5\n",
      "3/3 [==============================] - 0s 2ms/step - loss: 4.9835 - accuracy: 0.0385\n",
      "Epoch 3/5\n",
      "3/3 [==============================] - 0s 2ms/step - loss: 4.7038 - accuracy: 0.0385\n",
      "Epoch 4/5\n",
      "3/3 [==============================] - 0s 3ms/step - loss: 4.3464 - accuracy: 0.0641\n",
      "Epoch 5/5\n",
      "3/3 [==============================] - 0s 2ms/step - loss: 4.1401 - accuracy: 0.0385\n",
      "Test loss: 3.800814151763916    Test accuracy: 0.05128205195069313\n",
      "Epoch 1/5\n",
      "3/3 [==============================] - 0s 2ms/step - loss: 3.9000 - accuracy: 0.0513\n",
      "Epoch 2/5\n",
      "3/3 [==============================] - 0s 2ms/step - loss: 3.3772 - accuracy: 0.1026\n",
      "Epoch 3/5\n",
      "3/3 [==============================] - 0s 2ms/step - loss: 3.0505 - accuracy: 0.1154\n",
      "Epoch 4/5\n",
      "3/3 [==============================] - 0s 3ms/step - loss: 2.8150 - accuracy: 0.2179\n",
      "Epoch 5/5\n",
      "3/3 [==============================] - 0s 3ms/step - loss: 2.6379 - accuracy: 0.2564\n",
      "Test loss: 2.5153563022613525    Test accuracy: 0.28205129504203796\n",
      "| \u001b[95m 4       \u001b[0m | \u001b[95m 0.2821  \u001b[0m | \u001b[95m 2.467   \u001b[0m | \u001b[95m 3.584   \u001b[0m | \u001b[95m 0.0     \u001b[0m |\n",
      "Epoch 1/5\n",
      "3/3 [==============================] - 0s 980us/step - loss: 4.3890 - accuracy: 0.0385\n",
      "Epoch 2/5\n",
      "3/3 [==============================] - 0s 2ms/step - loss: 3.6807 - accuracy: 0.0769\n",
      "Epoch 3/5\n",
      "3/3 [==============================] - 0s 2ms/step - loss: 3.2449 - accuracy: 0.1282\n",
      "Epoch 4/5\n",
      "3/3 [==============================] - 0s 2ms/step - loss: 2.9452 - accuracy: 0.1923\n",
      "Epoch 5/5\n",
      "3/3 [==============================] - 0s 4ms/step - loss: 2.7474 - accuracy: 0.2436\n",
      "WARNING:tensorflow:5 out of the last 13 calls to <function Model.make_test_function.<locals>.test_function at 0x000002B663697D90> triggered tf.function retracing. Tracing is expensive and the excessive number of tracings could be due to (1) creating @tf.function repeatedly in a loop, (2) passing tensors with different shapes, (3) passing Python objects instead of tensors. For (1), please define your @tf.function outside of the loop. For (2), @tf.function has experimental_relax_shapes=True option that relaxes argument shapes that can avoid unnecessary retracing. For (3), please refer to https://www.tensorflow.org/guide/function#controlling_retracing and https://www.tensorflow.org/api_docs/python/tf/function for  more details.\n",
      "Test loss: 2.618356704711914    Test accuracy: 0.28205129504203796\n",
      "Epoch 1/5\n",
      "3/3 [==============================] - 0s 2ms/step - loss: 5.1556 - accuracy: 0.0385\n",
      "Epoch 2/5\n",
      "3/3 [==============================] - 0s 3ms/step - loss: 4.3221 - accuracy: 0.0641\n",
      "Epoch 3/5\n",
      "3/3 [==============================] - 0s 2ms/step - loss: 3.9283 - accuracy: 0.0385\n",
      "Epoch 4/5\n",
      "3/3 [==============================] - 0s 3ms/step - loss: 3.7234 - accuracy: 0.0641\n",
      "Epoch 5/5\n",
      "3/3 [==============================] - 0s 3ms/step - loss: 3.4168 - accuracy: 0.0897\n",
      "WARNING:tensorflow:5 out of the last 13 calls to <function Model.make_test_function.<locals>.test_function at 0x000002B660541E18> triggered tf.function retracing. Tracing is expensive and the excessive number of tracings could be due to (1) creating @tf.function repeatedly in a loop, (2) passing tensors with different shapes, (3) passing Python objects instead of tensors. For (1), please define your @tf.function outside of the loop. For (2), @tf.function has experimental_relax_shapes=True option that relaxes argument shapes that can avoid unnecessary retracing. For (3), please refer to https://www.tensorflow.org/guide/function#controlling_retracing and https://www.tensorflow.org/api_docs/python/tf/function for  more details.\n",
      "Test loss: 2.9034955501556396    Test accuracy: 0.20512820780277252\n",
      "Epoch 1/5\n",
      "3/3 [==============================] - 0s 2ms/step - loss: 4.6922 - accuracy: 0.0641\n",
      "Epoch 2/5\n",
      "3/3 [==============================] - 0s 2ms/step - loss: 4.4507 - accuracy: 0.0000e+00\n",
      "Epoch 3/5\n",
      "3/3 [==============================] - 0s 2ms/step - loss: 4.1238 - accuracy: 0.0000e+00\n",
      "Epoch 4/5\n",
      "3/3 [==============================] - 0s 3ms/step - loss: 3.6947 - accuracy: 0.0897\n",
      "Epoch 5/5\n",
      "3/3 [==============================] - 0s 2ms/step - loss: 3.5110 - accuracy: 0.1154\n",
      "Test loss: 3.03466796875    Test accuracy: 0.12820513546466827\n",
      "Epoch 1/5\n",
      "3/3 [==============================] - 1s 3ms/step - loss: 4.5647 - accuracy: 0.0513\n",
      "Epoch 2/5\n",
      "3/3 [==============================] - 0s 3ms/step - loss: 4.0419 - accuracy: 0.0641\n",
      "Epoch 3/5\n",
      "3/3 [==============================] - 0s 3ms/step - loss: 3.6396 - accuracy: 0.0769\n",
      "Epoch 4/5\n",
      "3/3 [==============================] - 0s 3ms/step - loss: 3.3612 - accuracy: 0.1538\n",
      "Epoch 5/5\n",
      "3/3 [==============================] - 0s 3ms/step - loss: 3.1426 - accuracy: 0.0897\n",
      "Test loss: 2.996406078338623    Test accuracy: 0.10256410390138626\n",
      "=============================================================\n",
      "Iteration 0: \n",
      "\t{'target': 0.19230769574642181, 'params': {'dense_0_neurons_x20': 2.2344704150482366, 'dense_1_neurons_x26': 3.2050383790149057, 'dropout_rate': 3.431244520346599e-05}}\n",
      "Iteration 1: \n",
      "\t{'target': 0.10256410390138626, 'params': {'dense_0_neurons_x20': 1.867464232421887, 'dense_1_neurons_x26': 1.3696188506147617, 'dropout_rate': 0.027701578430639338}}\n",
      "Iteration 2: \n",
      "\t{'target': 0.05128205195069313, 'params': {'dense_0_neurons_x20': 1.496032676408547, 'dense_1_neurons_x26': 2.0057943265377527, 'dropout_rate': 0.11903024226920098}}\n",
      "Iteration 3: \n",
      "\t{'target': 0.28205129504203796, 'params': {'dense_0_neurons_x20': 2.4674282621214614, 'dense_1_neurons_x26': 3.584222107697829, 'dropout_rate': 0.0}}\n",
      "Iteration 4: \n",
      "\t{'target': 0.28205129504203796, 'params': {'dense_0_neurons_x20': 2.9826344992892206, 'dense_1_neurons_x26': 4.1, 'dropout_rate': 0.0}}\n",
      "Iteration 5: \n",
      "\t{'target': 0.20512820780277252, 'params': {'dense_0_neurons_x20': 3.866282501640661, 'dense_1_neurons_x26': 3.2093844995321517, 'dropout_rate': 0.3}}\n",
      "Iteration 6: \n",
      "\t{'target': 0.12820513546466827, 'params': {'dense_0_neurons_x20': 1.9813285262869598, 'dense_1_neurons_x26': 4.1, 'dropout_rate': 0.3}}\n",
      "Iteration 7: \n",
      "\t{'target': 0.10256410390138626, 'params': {'dense_0_neurons_x20': 2.249315123810971, 'dense_1_neurons_x26': 3.227095635576439, 'dropout_rate': 0.011135850983025785}}\n",
      "{'target': 0.28205129504203796, 'params': {'dense_0_neurons_x20': 2.4674282621214614, 'dense_1_neurons_x26': 3.584222107697829, 'dropout_rate': 0.0}}\n"
     ]
    }
   ],
   "source": [
    "# Bounded region of parameter space\n",
    "pbounds = {'dense_0_neurons_x20': (0.9, 4.1), 'dense_1_neurons_x26': (0.9, 4.1), 'dropout_rate': (0, 0.3)}\n",
    "\n",
    "optimizer = BayesianOptimization(\n",
    "    f=fit_with_partial,\n",
    "    pbounds=pbounds,\n",
    "    verbose=1,  # verbose = 1 prints only when a maximum is observed, verbose = 0 is silent\n",
    "    random_state=1,\n",
    ")\n",
    "\n",
    "optimizer.maximize(init_points=3, n_iter=5)\n",
    "\n",
    "for i, res in enumerate(optimizer.res):\n",
    "    print(\"Iteration {}: \\n\\t{}\".format(i, res))\n",
    "\n",
    "print(optimizer.max)"
   ]
  },
  {
   "cell_type": "markdown",
   "metadata": {},
   "source": [
    "Learning with Hyper-parameter setting"
   ]
  },
  {
   "cell_type": "markdown",
   "metadata": {},
   "source": [
    "- With the hyper-parameter tuning, we can see that the accuracy does go up - for training."
   ]
  },
  {
   "cell_type": "code",
   "execution_count": 19,
   "metadata": {},
   "outputs": [
    {
     "name": "stdout",
     "output_type": "stream",
     "text": [
      "Epoch 1/35\n",
      "3/3 - 0s - loss: 3.6829 - accuracy: 0.0769 - 297ms/epoch - 99ms/step\n",
      "Epoch 2/35\n",
      "3/3 - 0s - loss: 3.3143 - accuracy: 0.0897 - 5ms/epoch - 2ms/step\n",
      "Epoch 3/35\n",
      "3/3 - 0s - loss: 3.0633 - accuracy: 0.1154 - 6ms/epoch - 2ms/step\n",
      "Epoch 4/35\n",
      "3/3 - 0s - loss: 2.8862 - accuracy: 0.1538 - 5ms/epoch - 2ms/step\n",
      "Epoch 5/35\n",
      "3/3 - 0s - loss: 2.7351 - accuracy: 0.2564 - 8ms/epoch - 3ms/step\n",
      "Epoch 6/35\n",
      "3/3 - 0s - loss: 2.5933 - accuracy: 0.2308 - 5ms/epoch - 2ms/step\n",
      "Epoch 7/35\n",
      "3/3 - 0s - loss: 2.4724 - accuracy: 0.2564 - 8ms/epoch - 3ms/step\n",
      "Epoch 8/35\n",
      "3/3 - 0s - loss: 2.3499 - accuracy: 0.4103 - 6ms/epoch - 2ms/step\n",
      "Epoch 9/35\n",
      "3/3 - 0s - loss: 2.2339 - accuracy: 0.4615 - 7ms/epoch - 2ms/step\n",
      "Epoch 10/35\n",
      "3/3 - 0s - loss: 2.1264 - accuracy: 0.4872 - 5ms/epoch - 2ms/step\n",
      "Epoch 11/35\n",
      "3/3 - 0s - loss: 2.0287 - accuracy: 0.5513 - 5ms/epoch - 2ms/step\n",
      "Epoch 12/35\n",
      "3/3 - 0s - loss: 1.9278 - accuracy: 0.6282 - 4ms/epoch - 1ms/step\n",
      "Epoch 13/35\n",
      "3/3 - 0s - loss: 1.8400 - accuracy: 0.6667 - 5ms/epoch - 2ms/step\n",
      "Epoch 14/35\n",
      "3/3 - 0s - loss: 1.7527 - accuracy: 0.6923 - 6ms/epoch - 2ms/step\n",
      "Epoch 15/35\n",
      "3/3 - 0s - loss: 1.6721 - accuracy: 0.6667 - 4ms/epoch - 1ms/step\n",
      "Epoch 16/35\n",
      "3/3 - 0s - loss: 1.5931 - accuracy: 0.6795 - 7ms/epoch - 2ms/step\n",
      "Epoch 17/35\n",
      "3/3 - 0s - loss: 1.5195 - accuracy: 0.7308 - 3ms/epoch - 997us/step\n",
      "Epoch 18/35\n",
      "3/3 - 0s - loss: 1.4534 - accuracy: 0.7051 - 5ms/epoch - 2ms/step\n",
      "Epoch 19/35\n",
      "3/3 - 0s - loss: 1.3863 - accuracy: 0.7308 - 4ms/epoch - 1ms/step\n",
      "Epoch 20/35\n",
      "3/3 - 0s - loss: 1.3202 - accuracy: 0.7308 - 4ms/epoch - 1ms/step\n",
      "Epoch 21/35\n",
      "3/3 - 0s - loss: 1.2601 - accuracy: 0.7436 - 6ms/epoch - 2ms/step\n",
      "Epoch 22/35\n",
      "3/3 - 0s - loss: 1.2021 - accuracy: 0.7564 - 6ms/epoch - 2ms/step\n",
      "Epoch 23/35\n",
      "3/3 - 0s - loss: 1.1458 - accuracy: 0.7821 - 8ms/epoch - 3ms/step\n",
      "Epoch 24/35\n",
      "3/3 - 0s - loss: 1.0957 - accuracy: 0.8077 - 5ms/epoch - 2ms/step\n",
      "Epoch 25/35\n",
      "3/3 - 0s - loss: 1.0442 - accuracy: 0.7949 - 6ms/epoch - 2ms/step\n",
      "Epoch 26/35\n",
      "3/3 - 0s - loss: 0.9982 - accuracy: 0.7949 - 6ms/epoch - 2ms/step\n",
      "Epoch 27/35\n",
      "3/3 - 0s - loss: 0.9574 - accuracy: 0.7949 - 8ms/epoch - 3ms/step\n",
      "Epoch 28/35\n",
      "3/3 - 0s - loss: 0.9117 - accuracy: 0.8333 - 5ms/epoch - 2ms/step\n",
      "Epoch 29/35\n",
      "3/3 - 0s - loss: 0.8706 - accuracy: 0.8718 - 7ms/epoch - 2ms/step\n",
      "Epoch 30/35\n",
      "3/3 - 0s - loss: 0.8298 - accuracy: 0.8718 - 4ms/epoch - 1ms/step\n",
      "Epoch 31/35\n",
      "3/3 - 0s - loss: 0.7938 - accuracy: 0.8846 - 6ms/epoch - 2ms/step\n",
      "Epoch 32/35\n",
      "3/3 - 0s - loss: 0.7593 - accuracy: 0.8846 - 5ms/epoch - 2ms/step\n",
      "Epoch 33/35\n",
      "3/3 - 0s - loss: 0.7257 - accuracy: 0.9103 - 4ms/epoch - 1ms/step\n",
      "Epoch 34/35\n",
      "3/3 - 0s - loss: 0.6968 - accuracy: 0.8974 - 4ms/epoch - 1ms/step\n",
      "Epoch 35/35\n",
      "3/3 - 0s - loss: 0.6673 - accuracy: 0.9359 - 3ms/epoch - 997us/step\n",
      "Test loss: 0.6436604261398315    Test accuracy: 0.9358974099159241\n"
     ]
    }
   ],
   "source": [
    "# Create the model using a specified hyperparameters.\n",
    "dense_0_neurons=2.47*20; dense_1_neurons=3.58*26; dropout_rate=0.0 #hyper-parameters found above are used as 3.8 and 3.53\n",
    "model = get_model(num_features, dense_0_neurons, dense_1_neurons, dropout_rate, num_classes)\n",
    "\n",
    "# Compile the keras model for a specified number of epochs.\n",
    "model.compile(loss='categorical_crossentropy',\n",
    "                  optimizer='adam',\n",
    "                  metrics=['accuracy'])\n",
    "\n",
    "# Fit keras model\n",
    "history = model.fit(input_array, output_array, epochs=35, batch_size=26, \n",
    "                        validation_split = 0.00, verbose=2)\n",
    "\n",
    "# Evaluate the model with the eval dataset.\n",
    "score = model.evaluate(input_test_array, output_test_array,\n",
    "                                  batch_size=26, verbose=0)\n",
    "print('Test loss:', score[0], '   Test accuracy:', score[1])"
   ]
  },
  {
   "cell_type": "markdown",
   "metadata": {},
   "source": [
    "- Looking at the output, we can see that the model creates an approximate 94% accuracy against the training dataset."
   ]
  },
  {
   "cell_type": "markdown",
   "metadata": {},
   "source": [
    "Training History"
   ]
  },
  {
   "cell_type": "code",
   "execution_count": 20,
   "metadata": {},
   "outputs": [],
   "source": [
    "# Define function for plotting history\n",
    "import matplotlib.pyplot as plt\n",
    "def plot_metrics(history):\n",
    "  metrics =  ['loss', 'accuracy']\n",
    "  for n, metric in enumerate(metrics):\n",
    "    name = metric.replace(\"_\",\" \").capitalize()\n",
    "    plt.subplot(1,2,n+1)\n",
    "    plt.tight_layout()\n",
    "    plt.plot(history.epoch,  history.history[metric], color=colors[0], label='Train')\n",
    "    #plt.plot(history.epoch, history.history['val_'+metric],\n",
    "    #         color=colors[0], linestyle=\"--\", label='Val')\n",
    "    plt.xlabel('Epoch')\n",
    "    plt.ylabel(name)\n",
    "    plt.legend()"
   ]
  },
  {
   "cell_type": "code",
   "execution_count": 21,
   "metadata": {},
   "outputs": [
    {
     "data": {
      "image/png": "[encoded data removed]",
      "text/plain": [
       "<Figure size 432x288 with 2 Axes>"
      ]
     },
     "metadata": {
      "needs_background": "light"
     },
     "output_type": "display_data"
    }
   ],
   "source": [
    "# Plot the training/validation history of our Keras model\n",
    "colors = plt.rcParams['axes.prop_cycle'].by_key()['color']\n",
    "plot_metrics(history)\n",
    "#warnings.filterwarnings(\"ignore\")"
   ]
  },
  {
   "cell_type": "markdown",
   "metadata": {},
   "source": [
    "- The above charts above show the loss getting lower and the accuracy getting better per epoch. The accuracy increases less with a flatter slope around epoch 30, indicated the right number of epochs."
   ]
  },
  {
   "cell_type": "markdown",
   "metadata": {},
   "source": [
    "Performance Evaluation"
   ]
  },
  {
   "cell_type": "code",
   "execution_count": 22,
   "metadata": {},
   "outputs": [],
   "source": [
    "def plot_cm(labels, predictions):\n",
    "  cm = confusion_matrix(labels, predictions)\n",
    "  plt.figure(figsize=(8,8))\n",
    "  sns.heatmap(cm, annot=True, fmt=\"d\")\n",
    "  plt.title('Confusion Matrix')\n",
    "  plt.ylabel('Actual label')\n",
    "  plt.xlabel('Predicted label')"
   ]
  },
  {
   "cell_type": "markdown",
   "metadata": {},
   "source": [
    "Make output predictions using test data"
   ]
  },
  {
   "cell_type": "code",
   "execution_count": 23,
   "metadata": {},
   "outputs": [],
   "source": [
    "#Predictions\n",
    "y_test_predictions = (model.predict(input_test_array, batch_size = 26) > 0.5).astype(\"int32\")\n",
    "#y_test_predictions"
   ]
  },
  {
   "cell_type": "markdown",
   "metadata": {},
   "source": [
    "Compare predicted test output against actual"
   ]
  },
  {
   "cell_type": "code",
   "execution_count": 24,
   "metadata": {},
   "outputs": [
    {
     "name": "stdout",
     "output_type": "stream",
     "text": [
      "loss :  0.6436604261398315\n",
      "accuracy :  0.9358974099159241\n",
      "\n"
     ]
    }
   ],
   "source": [
    "#Create Confusion matrix\n",
    "#y_test_predictions = model.predict_classes(input_test_array, batch_size=26)\n",
    "y_test_predictions = (model.predict(input_test_array, batch_size = 26) > 0.5).astype(\"int32\")\n",
    "baseline_results = model.evaluate(input_test_array, output_test_array,\n",
    "                                  batch_size=26, verbose=0)\n",
    "\n",
    "for name, value in zip(model.metrics_names, baseline_results):\n",
    "  print(name, ': ', value)\n",
    "print()\n",
    "\n",
    "#plot_cm(output_test_array, y_test_predictions)"
   ]
  },
  {
   "cell_type": "markdown",
   "metadata": {},
   "source": [
    "- The model performs well on the test data well, with 84% accuracy."
   ]
  },
  {
   "cell_type": "code",
   "execution_count": 25,
   "metadata": {},
   "outputs": [
    {
     "name": "stdout",
     "output_type": "stream",
     "text": [
      "INFO:tensorflow:Assets written to: dnn_model_CharRecognition\\assets\n"
     ]
    }
   ],
   "source": [
    "#save final model to reload in the future\n",
    "model.save('dnn_model_CharRecognition')"
   ]
  }
 ],
 "metadata": {
  "interpreter": {
   "hash": "0a05dd1933bc8de4c723981543747ad9357c4f2aac8c21722741f65705e4fc32"
  },
  "kernelspec": {
   "display_name": "Python 3.7.1 64-bit",
   "language": "python",
   "name": "python3"
  },
  "language_info": {
   "codemirror_mode": {
    "name": "ipython",
    "version": 3
   },
   "file_extension": ".py",
   "mimetype": "text/x-python",
   "name": "python",
   "nbconvert_exporter": "python",
   "pygments_lexer": "ipython3",
   "version": "3.7.1"
  },
  "orig_nbformat": 4
 },
 "nbformat": 4,
 "nbformat_minor": 2
}
